{
 "cells": [
  {
   "cell_type": "markdown",
   "metadata": {},
   "source": [
    "# Quantum Teleportation"
   ]
  },
  {
   "cell_type": "code",
   "execution_count": null,
   "metadata": {},
   "outputs": [],
   "source": [
    "from qiskit import QuantumCircuit, ClassicalRegister, QuantumRegister, Aer, execute\n",
    "%matplotlib inline\n",
    "from qiskit.visualization import plot_histogram as plot_h, plot_bloch_vector as plot_bv, plot_bloch_multivector as plot_bmv\n",
    "from math import sqrt, pi\n",
    "from qiskit.quantum_info import random_statevector\n",
    "from qiskit.extensions import Initialize\n",
    "\n",
    "output='mpl'\n",
    "s_backend = Aer.get_backend('statevector_simulator')\n",
    "q_backend = Aer.get_backend('qasm_simulator')\n",
    "u_backend = Aer.get_backend('unitary_simulator')\n",
    "\n",
    "%config InlineBackend.figure_format = 'svg'"
   ]
  },
  {
   "cell_type": "code",
   "execution_count": null,
   "metadata": {},
   "outputs": [],
   "source": [
    "def create_circuit():\n",
    "    \n",
    "    #psi = random_statevector(2)\n",
    "    #init_gate = Initialize(psi.data)\n",
    "\n",
    "    qr = QuantumRegister(3)\n",
    "    crz = ClassicalRegister(1)\n",
    "    crx = ClassicalRegister(1)\n",
    "    c = ClassicalRegister(1)\n",
    "    #print(crz)\n",
    "    qc = QuantumCircuit(qr, crz, crx, c)\n",
    "    \n",
    "    #qc.initialize(psi.data, qr[0])\n",
    "    \n",
    "    return [qc, qr, crz, crx, c]"
   ]
  },
  {
   "cell_type": "code",
   "execution_count": null,
   "metadata": {},
   "outputs": [],
   "source": [
    "def create_bell_state(qc, b1, b2):\n",
    "    \"\"\" Assumes that the starting states are 0 and 0, doesn't work otherwise \"\"\"\n",
    "    qc.h(b1)\n",
    "    qc.cx(b1,b2)"
   ]
  },
  {
   "cell_type": "code",
   "execution_count": null,
   "metadata": {},
   "outputs": [],
   "source": [
    "def alice_gates(qc, psi, b1):\n",
    "    qc.cx(psi, b1)\n",
    "    qc.h(psi)"
   ]
  },
  {
   "cell_type": "code",
   "execution_count": null,
   "metadata": {},
   "outputs": [],
   "source": [
    "def measure_and_send(qc, psi, b1, crx, crz):\n",
    "    qc.measure(psi, crz)\n",
    "    qc.measure(b1, crx)"
   ]
  },
  {
   "cell_type": "code",
   "execution_count": null,
   "metadata": {},
   "outputs": [],
   "source": [
    "def bob_gates(qc, b2, crx, crz):\n",
    "    qc.x(b2).c_if(crx, 1)\n",
    "    qc.z(b2).c_if(crz, 1)"
   ]
  },
  {
   "cell_type": "code",
   "execution_count": null,
   "metadata": {},
   "outputs": [],
   "source": [
    "def pbv(qc):\n",
    "    plot_bmv(execute(qc, s_backend).result().get_statevector())"
   ]
  },
  {
   "cell_type": "code",
   "execution_count": null,
   "metadata": {},
   "outputs": [],
   "source": [
    "# Main code\n",
    "qc, qr, crz, crx, c = create_circuit()\n",
    "plot_bmv(execute(qc, s_backend).result().get_statevector())"
   ]
  },
  {
   "cell_type": "code",
   "execution_count": null,
   "metadata": {},
   "outputs": [],
   "source": [
    "psi = qr[0]\n",
    "b1 = qr[1]\n",
    "b2 = qr[2]\n",
    "\n",
    "create_bell_state(qc, b1, b2)\n",
    "\n",
    "qc.barrier()\n",
    "\n",
    "alice_gates(qc, psi, b1)\n",
    "\n",
    "qc.barrier()\n",
    "\n",
    "measure_and_send(qc, psi, b1, crx, crz)\n",
    "\n",
    "qc.barrier()\n",
    "\n",
    "bob_gates(qc, b2, crx, crz)\n",
    "\n",
    "qc.barrier()\n",
    "\n",
    "qc.measure(2, c)\n",
    "qc.draw('mpl')"
   ]
  },
  {
   "cell_type": "code",
   "execution_count": null,
   "metadata": {},
   "outputs": [],
   "source": [
    "plot_bmv(execute(qc, s_backend).result().get_statevector())"
   ]
  }
 ],
 "metadata": {
  "kernelspec": {
   "display_name": "qiskit",
   "language": "python",
   "name": "qiskit"
  },
  "language_info": {
   "codemirror_mode": {
    "name": "ipython",
    "version": 3
   },
   "file_extension": ".py",
   "mimetype": "text/x-python",
   "name": "python",
   "nbconvert_exporter": "python",
   "pygments_lexer": "ipython3",
   "version": "3.8.1"
  }
 },
 "nbformat": 4,
 "nbformat_minor": 4
}
